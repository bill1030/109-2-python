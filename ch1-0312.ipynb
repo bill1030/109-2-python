{
 "cells": [
  {
   "cell_type": "markdown",
   "metadata": {},
   "source": [
    "# chap1 運算式、變數與資料型別\n",
    "## 註解：##加一個空格是註解"
   ]
  },
  {
   "cell_type": "code",
   "execution_count": 1,
   "metadata": {},
   "outputs": [
    {
     "name": "stdout",
     "output_type": "stream",
     "text": [
      "3\n"
     ]
    }
   ],
   "source": [
    "a=1\n",
    "b=2\n",
    "print(a+b)"
   ]
  },
  {
   "cell_type": "code",
   "execution_count": 4,
   "metadata": {},
   "outputs": [
    {
     "name": "stdout",
     "output_type": "stream",
     "text": [
      "4\n"
     ]
    }
   ],
   "source": [
    "'''\n",
    "多行註解\n",
    "多行註解\n",
    "多行註解\n",
    "'''\n",
    "a=2\n",
    "b=2\n",
    "print(a+b)"
   ]
  },
  {
   "cell_type": "markdown",
   "metadata": {},
   "source": [
    "# 運算式"
   ]
  },
  {
   "cell_type": "code",
   "execution_count": null,
   "metadata": {},
   "outputs": [],
   "source": [
    "# 變數交換\n",
    "x=5\n",
    "y=50\n",
    "z=x\n",
    "x=y\n",
    "y=z\n",
    "print(x)\n",
    "print(y)"
   ]
  },
  {
   "cell_type": "code",
   "execution_count": 22,
   "metadata": {},
   "outputs": [
    {
     "name": "stdout",
     "output_type": "stream",
     "text": [
      "50\n",
      "5\n"
     ]
    }
   ],
   "source": [
    "x=5\n",
    "y=50\n",
    "x=x+y\n",
    "y=x-y\n",
    "z=x-y\n",
    "print(z)\n",
    "print(y)"
   ]
  },
  {
   "cell_type": "code",
   "execution_count": 23,
   "metadata": {},
   "outputs": [
    {
     "name": "stdout",
     "output_type": "stream",
     "text": [
      "10\n",
      "1\n"
     ]
    }
   ],
   "source": [
    "# python版本的變數交換\n",
    "x=1\n",
    "y=10\n",
    "x,y=y,x\n",
    "print(x)\n",
    "print()"
   ]
  },
  {
   "cell_type": "markdown",
   "metadata": {},
   "source": [
    "# 變數"
   ]
  },
  {
   "cell_type": "code",
   "execution_count": 24,
   "metadata": {},
   "outputs": [
    {
     "name": "stdout",
     "output_type": "stream",
     "text": [
      "3\n",
      "4\n",
      "5\n"
     ]
    }
   ],
   "source": [
    "# 變數的平行設定\n",
    "x, y, z=3, 4, 5\n",
    "print(x)\n",
    "print(y)\n",
    "print(z)"
   ]
  },
  {
   "cell_type": "code",
   "execution_count": 25,
   "metadata": {},
   "outputs": [
    {
     "name": "stdout",
     "output_type": "stream",
     "text": [
      "4 8 125\n"
     ]
    }
   ],
   "source": [
    "x, y, z=3, 4, 5\n",
    "x += 1  # x=x+1\n",
    "y *= 2  # y=y*2\n",
    "z **= 3 # z=z^3\n",
    "print(x, y, z)"
   ]
  },
  {
   "cell_type": "markdown",
   "metadata": {},
   "source": [
    "# 變數的應用\n",
    "Q：假設有一三角形邊長3, 4, 5，其面積大小為何？\n",
    "<br>公式：\n",
    "<br>s=(a+b+c)/2\n",
    "<br>sqrt(s*(s-a)*(s-b)*(s-c))"
   ]
  },
  {
   "cell_type": "code",
   "execution_count": 26,
   "metadata": {},
   "outputs": [
    {
     "name": "stdout",
     "output_type": "stream",
     "text": [
      "6.0\n"
     ]
    }
   ],
   "source": [
    "import math\n",
    "a,b,c=3,4,5\n",
    "s=(a+b+c)/2\n",
    "d=math.sqrt(s*(s-a)*(s-b)*(s-c))\n",
    "print(d)"
   ]
  },
  {
   "cell_type": "markdown",
   "metadata": {},
   "source": [
    "Q：半徑為10的三角型，其面積大小為何？"
   ]
  },
  {
   "cell_type": "code",
   "execution_count": 27,
   "metadata": {},
   "outputs": [
    {
     "name": "stdout",
     "output_type": "stream",
     "text": [
      "314.1592653589793\n"
     ]
    }
   ],
   "source": [
    "import math\n",
    "r=10\n",
    "print(r*r*math.pi)"
   ]
  },
  {
   "cell_type": "markdown",
   "metadata": {},
   "source": [
    "# 資料型態"
   ]
  },
  {
   "cell_type": "markdown",
   "metadata": {},
   "source": [
    "python屬於動態類型變數，使用前不需要宣告資料型態"
   ]
  },
  {
   "cell_type": "code",
   "execution_count": 4,
   "metadata": {},
   "outputs": [
    {
     "name": "stdout",
     "output_type": "stream",
     "text": [
      "<class 'int'>\n",
      "<class 'float'>\n",
      "<class 'str'>\n"
     ]
    }
   ],
   "source": [
    # 判斷資料型態
    "x=254\n",
    "y=3.14\n",
    "z='write'\n",
    "print(type(x))\n",
    "print(type(y))\n",
    "print(type(z))"
   ]
  },
  {
   "cell_type": "markdown",
   "metadata": {},
   "source": [
    "# 算術符號"
   ]
  },
  {
   "cell_type": "code",
   "execution_count": 1,
   "metadata": {},
   "outputs": [
    {
     "name": "stdout",
     "output_type": "stream",
     "text": [
      "6.666666666666667\n",
      "6\n",
      "2\n"
     ]
    }
   ],
   "source": [
    "x=20\n",
    "y=3\n",
    "print(x/y) ##除法\n",
    "print(x//y)##取商\n",
    "print(x%y) ##取餘數"
   ]
  },
  {
   "cell_type": "markdown",
   "metadata": {},
   "source": [
    "# 注意數字的正確性"
   ]
  },
  {
   "cell_type": "code",
   "execution_count": 7,
   "metadata": {},
   "outputs": [
    {
     "name": "stdout",
     "output_type": "stream",
     "text": [
      "0.0015926269999999576\n"
     ]
    }
   ],
   "source": [
    "x=3.141592627\n",
    "print(x-3.14)##比正確值略小"
   ]
  },
  {
   "cell_type": "markdown",
   "metadata": {},
   "source": [
    "# 關係比較"
   ]
  },
  {
   "cell_type": "code",
   "execution_count": 8,
   "metadata": {},
   "outputs": [
    {
     "name": "stdout",
     "output_type": "stream",
     "text": [
      "True\n",
      "False\n",
      "20\n"
     ]
    }
   ],
   "source": [
    "print(10==10)\n",
    "x,y=10,20\n",
    "print(x==y) ##==  關係比較\n",
    "x=y         ##=   指派值\n",
    "print(x)"
   ]
  },
  {
   "cell_type": "markdown",
   "metadata": {},
   "source": [
    "# 關係比例 以閏年為例"
   ]
  },
  {
   "cell_type": "code",
   "execution_count": 10,
   "metadata": {},
   "outputs": [
    {
     "name": "stdout",
     "output_type": "stream",
     "text": [
      "False\n",
      "True\n",
      "False\n",
      "True\n"
     ]
    }
   ],
   "source": [
    "y=2010\n",
    "print(y%4==0 and y%100!=0 or y%400==0)\n",
    "y=2012\n",
    "print(y%4==0 and y%100!=0 or y%400==0)\n",
    "y=1900\n",
    "print(y%4==0 and y%100!=0 or y%400==0)\n",
    "y=2000\n",
    "print(y%4==0 and y%100!=0 or y%400==0)"
   ]
  },
  {
   "cell_type": "markdown",
   "metadata": {},
   "source": [
    "# 型態轉換"
   ]
  },
  {
   "cell_type": "code",
   "execution_count": 7,
   "metadata": {},
   "outputs": [
    {
     "name": "stdout",
     "output_type": "stream",
     "text": [
      "must must must must must \n",
      "5must \n",
      "5 must \n"
     ]
    }
   ],
   "source": [
    "x=\"must \" #不同型態的轉換所擁有的結果不一定是你想的結果\n",
    "print(5*x)\n",
    "print(\"5\"+x)\n",
    "print(5,x)"
   ]
  },
  {
   "cell_type": "code",
   "execution_count": 17,
   "metadata": {},
   "outputs": [
    {
     "name": "stdout",
     "output_type": "stream",
     "text": [
      "<class 'int'>\n",
      "<class 'float'>\n",
      "123\n",
      "123\n",
      "123\n"
     ]
    }
   ],
   "source": [
    "x=12\n",
    "print(type(x))\n",
    "y=float(x)+0.5 #強制型別轉換\n",
    "print(type(y))\n",
    "print(int(\"123\"))\n",
    "print(int(123.45))\n",
    "print(int(float(\"123.45\")))"
   ]
  },
  {
   "cell_type": "code",
   "execution_count": 27,
   "metadata": {},
   "outputs": [
    {
     "name": "stdout",
     "output_type": "stream",
     "text": [
      "The value of x is 32.5 and y is 40000\n",
      "The value of x is 32.5 and y is 40000\n",
      "The value of x is 32.5 and y is 40000\n"
     ]
    }
   ],
   "source": [
    "# 字串的型別轉換\n",
    "x=10*3.25 #x=32.\n",
    "y=200*200 #y=40000\n",
    "s=\"The value of x is \" + str(x) + ' and y is ' + str(y)\n",
    "print(s)\n",
    "print(\"The value of x is\",x,\"and y is\",y)\n",
    "print(\"The value of x is {} and y is {}\".format(x,y))"
   ]
  },
  {
   "cell_type": "markdown",
   "metadata": {},
   "source": [
    "# 非內建模組"
   ]
  },
  {
   "cell_type": "code",
   "execution_count": 28,
   "metadata": {},
   "outputs": [
    {
     "name": "stdout",
     "output_type": "stream",
     "text": [
      "3.141592653589793\n",
      "8.0\n",
      "26.423892221536985\n",
      "5.0\n"
     ]
    }
   ],
   "source": [
    "import math\n",
    "print(math.pi)\n",
    "print(math.pow(2,3))\n",
    "print(8.3*10.58*math.sin(37.0/180*math.pi)/2)\n",
    "print(math.sqrt(25)) #開根號"
   ]
  },
  {
   "cell_type": "markdown",
   "metadata": {},
   "source": [
    "# 範例：算圓面積"
   ]
  },
  {
   "cell_type": "code",
   "execution_count": 29,
   "metadata": {},
   "outputs": [
    {
     "name": "stdout",
     "output_type": "stream",
     "text": [
      "請輸入圓的半徑：4\n",
      "圓面積： 12.566370614359172\n"
     ]
    }
   ],
   "source": [
    "import math\n",
    "r=input(\"請輸入圓的半徑：\")\n",
    "area=float(r)*math.pi\n",
    "print(\"圓面積：\",area)"
   ]
  },
  {
   "cell_type": "markdown",
   "metadata": {},
   "source": [
    "# 應用題：算矩形面積"
   ]
  },
  {
   "cell_type": "code",
   "execution_count": 34,
   "metadata": {},
   "outputs": [
    {
     "name": "stdout",
     "output_type": "stream",
     "text": [
      "請輸入矩形的長：10\n",
      "請輸入矩形的寬：5\n",
      "矩形面積： 50.0\n"
     ]
    }
   ],
   "source": [
    "import math\n",
    "a=input(\"請輸入矩形的長：\")\n",
    "b=input(\"請輸入矩形的寬：\")\n",
    "c=float(a)*float(b)\n",
    "print(\"矩形面積：\",c)"
   ]
  }
 ],
 "metadata": {
  "kernelspec": {
   "display_name": "Python 3",
   "language": "python",
   "name": "python3"
  },
  "language_info": {
   "codemirror_mode": {
    "name": "ipython",
    "version": 3
   },
   "file_extension": ".py",
   "mimetype": "text/x-python",
   "name": "python",
   "nbconvert_exporter": "python",
   "pygments_lexer": "ipython3",
   "version": "3.8.5"
  }
 },
 "nbformat": 4,
 "nbformat_minor": 4
}
