{
 "cells": [
  {
   "cell_type": "markdown",
   "metadata": {},
   "source": [
    "# chap2 流程控制"
   ]
  },
  {
   "cell_type": "markdown",
   "metadata": {},
   "source": [
    "## if else elif"
   ]
  },
  {
   "cell_type": "code",
   "execution_count": 1,
   "metadata": {},
   "outputs": [
    {
     "name": "stdout",
     "output_type": "stream",
     "text": [
      "b是最大的值\n"
     ]
    }
   ],
   "source": [
    "a=1\n",
    "b=2\n",
    "if a <= b:\n",
    "    print(\"b是最大的值\")\n",
    "else:\n",
    "    print(\"a是最大的值\")"
   ]
  },
  {
   "cell_type": "markdown",
   "metadata": {},
   "source": [
    "## 範例：成績判斷"
   ]
  },
  {
   "cell_type": "code",
   "execution_count": 10,
   "metadata": {},
   "outputs": [
    {
     "name": "stdout",
     "output_type": "stream",
     "text": [
      "成績評價：\n",
      "乙等\n"
     ]
    }
   ],
   "source": [
    "g=71\n",
    "print(\"成績評價：\")\n",
    "if g >=90:\n",
    "    print(\"優等\")\n",
    "elif g >=80:\n",
    "     print(\"甲等\")\n",
    "elif g >=70:\n",
    "     print(\"乙等\")\n",
    "elif g < 70:\n",
    "     print(\"不及格\")"
   ]
  },
  {
   "cell_type": "markdown",
   "metadata": {},
   "source": [
    "# for 迴圈"
   ]
  },
  {
   "cell_type": "code",
   "execution_count": 12,
   "metadata": {},
   "outputs": [
    {
     "name": "stdout",
     "output_type": "stream",
     "text": [
      "1+2+3+...+10 = 55\n"
     ]
    }
   ],
   "source": [
    "#range第一種寫法\n",
    "#1+2+3+...+10總和\n",
    "sum=0\n",
    "for count in range(1,11,1): #1開只到，不包含11，每次間隔1\n",
    "    sum+=count\n",
    "print(\"1+2+3+...+10 =\",sum)"
   ]
  },
  {
   "cell_type": "code",
   "execution_count": 13,
   "metadata": {},
   "outputs": [
    {
     "name": "stdout",
     "output_type": "stream",
     "text": [
      "1+2+3+...+10 = 55\n"
     ]
    }
   ],
   "source": [
    "#range第二種寫法\n",
    "#1+2+3+...+10總和\n",
    "sum=0\n",
    "for count in range(11): #1開只到，不包含11，每次間隔1\n",
    "    sum+=count\n",
    "print(\"1+2+3+...+10 =\",sum)"
   ]
  },
  {
   "cell_type": "code",
   "execution_count": 16,
   "metadata": {},
   "outputs": [
    {
     "name": "stdout",
     "output_type": "stream",
     "text": [
      "f\n",
      "o\n",
      "r\n",
      " \n",
      "a\n",
      "b\n",
      "c\n",
      "end list\n"
     ]
    }
   ],
   "source": [
    "mylist=\"for abc\"\n",
    "for c in mylist: \n",
    "    print(c)\n",
    "print(\"end list\")"
   ]
  },
  {
   "cell_type": "code",
   "execution_count": 15,
   "metadata": {},
   "outputs": [
    {
     "name": "stdout",
     "output_type": "stream",
     "text": [
      "java\n",
      "c#\n",
      "python\n"
     ]
    }
   ],
   "source": [
    "for pl in[\"java\",\"c#\",\"python\"]: \n",
    "    print(pl)"
   ]
  },
  {
   "cell_type": "markdown",
   "metadata": {},
   "source": [
    "## 應用題：雞兔同籠\n",
    "若共有35個頭，94隻腳，請問有幾隻雞?幾隻兔子?"
   ]
  },
  {
   "cell_type": "code",
   "execution_count": 23,
   "metadata": {},
   "outputs": [
    {
     "name": "stdout",
     "output_type": "stream",
     "text": [
      "雞有 23 隻 兔子有 12 隻\n"
     ]
    }
   ],
   "source": [
    "for ch in range(0,36):\n",
    "    ra=35-ch\n",
    "    if (2*ch+4*ra) == 94:\n",
    "        print(\"雞有\",ch,\"隻\",\"兔子有\",ra,\"隻\")\n",
    "        break\n",
    "else:\n",
    "    print(\"無解\")"
   ]
  },
  {
   "cell_type": "markdown",
   "metadata": {},
   "source": [
    "# while 迴圈"
   ]
  },
  {
   "cell_type": "code",
   "execution_count": 24,
   "metadata": {},
   "outputs": [
    {
     "name": "stdout",
     "output_type": "stream",
     "text": [
      "1+2+3+...+10 = 55\n"
     ]
    }
   ],
   "source": [
    "sum=0\n",
    "count=1\n",
    "while count <=10:\n",
    "    sum+=count\n",
    "    count +=1\n",
    "print(\"1+2+3+...+10 =\",sum)"
   ]
  },
  {
   "cell_type": "markdown",
   "metadata": {},
   "source": [
    "## 範例：利息翻倍\n",
    "本金10000元，定存年利率0.6%，請問多久銀行存款翻倍?"
   ]
  },
  {
   "cell_type": "code",
   "execution_count": 26,
   "metadata": {},
   "outputs": [
    {
     "name": "stdout",
     "output_type": "stream",
     "text": [
      "116 年以後，存款翻倍，為 20015 元\n"
     ]
    }
   ],
   "source": [
    "x=10000\n",
    "years=0\n",
    "while x <= 20000:\n",
    "    x=x*1.006\n",
    "    years+=1\n",
    "print(str(years),\"年以後，存款翻倍，為\",int(x),\"元\")"
   ]
  },
  {
   "cell_type": "markdown",
   "metadata": {},
   "source": [
    "## 帳號密碼判斷"
   ]
  },
  {
   "cell_type": "code",
   "execution_count": 28,
   "metadata": {},
   "outputs": [
    {
     "name": "stdout",
     "output_type": "stream",
     "text": [
      "請輸入帳號：aaaa\n",
      "請輸入密碼：1234\n",
      "歡迎登入\n"
     ]
    }
   ],
   "source": [
    "id=\"aaaa\"\n",
    "pwd=\"1234\"\n",
    "while True:\n",
    "    x=input(\"請輸入帳號：\")\n",
    "    y=input(\"請輸入密碼：\")\n",
    "    if (x==id and y==pwd):\n",
    "        print(\"歡迎登入\")\n",
    "        break\n",
    "    else:\n",
    "        print(\"帳號或密碼錯誤\")"
   ]
  },
  {
   "cell_type": "markdown",
   "metadata": {},
   "source": [
    "# 亂數"
   ]
  },
  {
   "cell_type": "code",
   "execution_count": 31,
   "metadata": {},
   "outputs": [
    {
     "name": "stdout",
     "output_type": "stream",
     "text": [
      "3\n",
      "5\n",
      "2\n",
      "9\n",
      "4\n",
      "2\n",
      "5\n",
      "5\n",
      "7\n",
      "3\n"
     ]
    }
   ],
   "source": [
    "import random\n",
    "for i in range(0,10):\n",
    "    print(random.randint(1,9))"
   ]
  },
  {
   "cell_type": "markdown",
   "metadata": {},
   "source": [
    "## 範例：猜數字"
   ]
  },
  {
   "cell_type": "code",
   "execution_count": 32,
   "metadata": {},
   "outputs": [
    {
     "name": "stdout",
     "output_type": "stream",
     "text": [
      "請輸入1~10之間的數字1\n",
      "你猜錯了\n",
      "請輸入1~10之間的數字2\n",
      "你猜錯了\n",
      "請輸入1~10之間的數字3\n",
      "你猜錯了\n",
      "請輸入1~10之間的數字4\n",
      "恭喜你，數字是： 4\n"
     ]
    }
   ],
   "source": [
    "import random\n",
    "a=random.randint(1,10)\n",
    "while True:\n",
    "    guess=int(input(\"請輸入1~10之間的數字\"))\n",
    "    if guess == a:\n",
    "        print(\"恭喜你，數字是：\",a)\n",
    "        break\n",
    "    else:\n",
    "        print(\"你猜錯了\")"
   ]
  }
 ],
 "metadata": {
  "kernelspec": {
   "display_name": "Python 3",
   "language": "python",
   "name": "python3"
  },
  "language_info": {
   "codemirror_mode": {
    "name": "ipython",
    "version": 3
   },
   "file_extension": ".py",
   "mimetype": "text/x-python",
   "name": "python",
   "nbconvert_exporter": "python",
   "pygments_lexer": "ipython3",
   "version": "3.8.5"
  }
 },
 "nbformat": 4,
 "nbformat_minor": 4
}
