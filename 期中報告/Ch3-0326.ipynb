{
 "cells": [
  {
   "cell_type": "markdown",
   "metadata": {},
   "source": [
    "# Python物件\n",
    "## List(串列)Tuple(元組)Dictionary(字典)Sete(集合)"
   ]
  },
  {
   "cell_type": "markdown",
   "metadata": {},
   "source": [
    "## List串列\n",
    "使用中括號([ ])包裹元素"
   ]
  },
  {
   "cell_type": "code",
   "execution_count": 2,
   "metadata": {},
   "outputs": [
    {
     "name": "stdout",
     "output_type": "stream",
     "text": [
      "3600\n"
     ]
    }
   ],
   "source": [
    "ex=[1138, 101, 12, 300, 2049] #串列\n",
    "print(sum(ex))"
   ]
  },
  {
   "cell_type": "code",
   "execution_count": 3,
   "metadata": {},
   "outputs": [
    {
     "name": "stdout",
     "output_type": "stream",
     "text": [
      "1138\n",
      "101\n",
      "2049\n",
      "300\n"
     ]
    }
   ],
   "source": [
    "ex=[1138, 101, 12, 300, 2049] #串列\n",
    "print(ex[0])  #從0開始\n",
    "print(ex[1])  #從1開始\n",
    "print(ex[-1]) #從倒數第一個開始\n",
    "print(ex[-2]) #從倒數第二個開始"
   ]
  },
  {
   "cell_type": "code",
   "execution_count": 8,
   "metadata": {},
   "outputs": [
    {
     "name": "stdout",
     "output_type": "stream",
     "text": [
      "javascript\n"
     ]
    }
   ],
   "source": [
    "my_list0 = [] #空串列\n",
    "my_list1 = list()\n",
    "my_list2 = [\"python\",\"javascript\",\"C#\"]\n",
    "print(my_list2[1]) #呼叫my_list2第1個"
   ]
  },
  {
   "cell_type": "markdown",
   "metadata": {},
   "source": [
    "## list的長度"
   ]
  },
  {
   "cell_type": "markdown",
   "metadata": {},
   "source": [
    "## 附加"
   ]
  },
  {
   "cell_type": "code",
   "execution_count": 11,
   "metadata": {},
   "outputs": [
    {
     "name": "stdout",
     "output_type": "stream",
     "text": [
      "3\n",
      "6\n"
     ]
    }
   ],
   "source": [
    "my_list2 = [\"python\",\"javascript\",\"C#\"]\n",
    "print(len(my_list2))    #總共有幾個\n",
    "print(len(my_list2[0])) #有幾個字元"
   ]
  },
  {
   "cell_type": "code",
   "execution_count": 13,
   "metadata": {},
   "outputs": [
    {
     "name": "stdout",
     "output_type": "stream",
     "text": [
      "['java', 'python', 'javascript', 'C#']\n"
     ]
    }
   ],
   "source": [
    "my_list2 = [\"python\",\"javascript\",\"C#\"]\n",
    "my_list2.insert(0,\"java\") #在第0個(python)前面插入java\n",
    "print(my_list2) "
   ]
  },
  {
   "cell_type": "code",
   "execution_count": 19,
   "metadata": {},
   "outputs": [
    {
     "name": "stdout",
     "output_type": "stream",
     "text": [
      "['python', 'javascript', 'C#', 'java']\n"
     ]
    }
   ],
   "source": [
    "my_list2 = [\"python\",\"javascript\",\"C#\"]\n",
    "my_list2.append(\"java\") #在最後一個(C#)後面插入java\n",
    "print(my_list2) "
   ]
  },
  {
   "cell_type": "markdown",
   "metadata": {},
   "source": [
    "## 刪除"
   ]
  },
  {
   "cell_type": "code",
   "execution_count": 21,
   "metadata": {},
   "outputs": [
    {
     "name": "stdout",
     "output_type": "stream",
     "text": [
      "['javascript', 'C#']\n",
      "['javascript']\n",
      "[]\n"
     ]
    }
   ],
   "source": [
    "my_list2 = [\"python\",\"javascript\",\"C#\"]\n",
    "my_list2.remove(\"python\") #移除指定元素\n",
    "print(my_list2)\n",
    "del my_list2[-1] #刪除指定位置\n",
    "print(my_list2)\n",
    "my_list2.clear() #清除元素\n",
    "print(my_list2)"
   ]
  },
  {
   "cell_type": "code",
   "execution_count": 22,
   "metadata": {},
   "outputs": [
    {
     "name": "stdout",
     "output_type": "stream",
     "text": [
      "[1, 2, 1, 2, 1, 2, 1, 2, 1, 2]\n"
     ]
    }
   ],
   "source": [
    "a=[1,2]\n",
    "print(a*5)"
   ]
  },
  {
   "cell_type": "markdown",
   "metadata": {},
   "source": [
    "## list取值"
   ]
  },
  {
   "cell_type": "code",
   "execution_count": 39,
   "metadata": {},
   "outputs": [
    {
     "name": "stdout",
     "output_type": "stream",
     "text": [
      "[1, 2, 3]\n",
      "[1, 3, 5, 7, 9]\n",
      "[1, 2, 3, 4, 5, 6, 7, 8, 9]\n",
      "[1, 2, 3, 4, 5, 6, 7, 8, 9]\n",
      "[1, 2, 3, 4, 5, 6, 7, 8, 9]\n"
     ]
    }
   ],
   "source": [
    "a=[1,2,3,4,5,6,7,8,9]\n",
    "b=a[0:3]   #範圍取值:從0到3但不包含3\n",
    "print(b)\n",
    "c=a[0:9:2] #從0到9但不包含9，並且間隔2\n",
    "print(c)\n",
    "d=a[0: ]   #第1個元素到最後一個元素\n",
    "print(d)\n",
    "e=a[ :9]   #從第0個元素到第9個元素\n",
    "print(e)\n",
    "f=a[:]     #全部選取\n",
    "print(f)"
   ]
  },
  {
   "cell_type": "code",
   "execution_count": 47,
   "metadata": {},
   "outputs": [
    {
     "name": "stdout",
     "output_type": "stream",
     "text": [
      "[1, 2, 3, 4, 5, 6, 7]\n",
      "最小值: 1\n",
      "最大值: 7\n",
      "第 0 個\n",
      "3 次\n",
      "[7, 6, 5, 4, 3, 2, 1]\n",
      "[1, 2, 3, 4, 5, 6, 7]\n"
     ]
    }
   ],
   "source": [
    "a=[1,2,3,4,5,6,7,8,9]\n",
    "del a[7:9] #刪除指定範圍值，第7個到第9個但不包含9\n",
    "print(a)\n",
    "print(\"最小值:\",min(a)) #最小值\n",
    "print(\"最大值:\",max(a)) #最大值\n",
    "print(\"第\",a.index(1),\"個\") #找出1所在的第一個索引值\n",
    "b=[0,0,1,0,1,1]\n",
    "print(b.count(1),\"次\") #1出現的次數\n",
    "a.reverse() #串列反轉\n",
    "print(a)\n",
    "a.sort()    #串列由小到大排序\n",
    "print(a)"
   ]
  },
  {
   "cell_type": "code",
   "execution_count": 49,
   "metadata": {},
   "outputs": [
    {
     "name": "stdout",
     "output_type": "stream",
     "text": [
      "[12, 101, 300, 1138, 2049] [1138, 101, 12, 300, 2049]\n"
     ]
    }
   ],
   "source": [
    "ex=[1138, 101, 12, 300, 2049]\n",
    "s=sorted(ex) #由小到大排序，ex的值不會變\n",
    "print(s,ex)"
   ]
  }
 ],
 "metadata": {
  "kernelspec": {
   "display_name": "Python 3",
   "language": "python",
   "name": "python3"
  },
  "language_info": {
   "codemirror_mode": {
    "name": "ipython",
    "version": 3
   },
   "file_extension": ".py",
   "mimetype": "text/x-python",
   "name": "python",
   "nbconvert_exporter": "python",
   "pygments_lexer": "ipython3",
   "version": "3.8.5"
  }
 },
 "nbformat": 4,
 "nbformat_minor": 4
}
