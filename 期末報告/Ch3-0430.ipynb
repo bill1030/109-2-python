{
 "cells": [
  {
   "cell_type": "markdown",
   "metadata": {},
   "source": [
    "# Python物件\n",
    "## List(串列)Tuple(元組)Dictionary(字典)Sete(集合)"
   ]
  },
  {
   "cell_type": "markdown",
   "metadata": {},
   "source": [
    "## List串列\n",
    "使用中括號([ ])包裹元素"
   ]
  },
  {
   "cell_type": "code",
   "execution_count": 2,
   "metadata": {},
   "outputs": [
    {
     "name": "stdout",
     "output_type": "stream",
     "text": [
      "3600\n"
     ]
    }
   ],
   "source": [
    "ex=[1138, 101, 12, 300, 2049] #串列\n",
    "print(sum(ex))"
   ]
  },
  {
   "cell_type": "code",
   "execution_count": 3,
   "metadata": {},
   "outputs": [
    {
     "name": "stdout",
     "output_type": "stream",
     "text": [
      "1138\n",
      "101\n",
      "2049\n",
      "300\n"
     ]
    }
   ],
   "source": [
    "ex=[1138, 101, 12, 300, 2049] #串列\n",
    "print(ex[0])  #從0開始\n",
    "print(ex[1])  #從1開始\n",
    "print(ex[-1]) #從倒數第一個開始\n",
    "print(ex[-2]) #從倒數第二個開始"
   ]
  },
  {
   "cell_type": "code",
   "execution_count": 8,
   "metadata": {},
   "outputs": [
    {
     "name": "stdout",
     "output_type": "stream",
     "text": [
      "javascript\n"
     ]
    }
   ],
   "source": [
    "my_list0 = [] #空串列\n",
    "my_list1 = list()\n",
    "my_list2 = [\"python\",\"javascript\",\"C#\"]\n",
    "print(my_list2[1]) #呼叫my_list2第1個"
   ]
  },
  {
   "cell_type": "markdown",
   "metadata": {},
   "source": [
    "## list的長度"
   ]
  },
  {
   "cell_type": "markdown",
   "metadata": {},
   "source": [
    "## 附加"
   ]
  },
  {
   "cell_type": "code",
   "execution_count": 11,
   "metadata": {},
   "outputs": [
    {
     "name": "stdout",
     "output_type": "stream",
     "text": [
      "3\n",
      "6\n"
     ]
    }
   ],
   "source": [
    "my_list2 = [\"python\",\"javascript\",\"C#\"]\n",
    "print(len(my_list2))    #總共有幾個\n",
    "print(len(my_list2[0])) #有幾個字元"
   ]
  },
  {
   "cell_type": "code",
   "execution_count": 13,
   "metadata": {},
   "outputs": [
    {
     "name": "stdout",
     "output_type": "stream",
     "text": [
      "['java', 'python', 'javascript', 'C#']\n"
     ]
    }
   ],
   "source": [
    "my_list2 = [\"python\",\"javascript\",\"C#\"]\n",
    "my_list2.insert(0,\"java\") #在第0個(python)前面插入java\n",
    "print(my_list2) "
   ]
  },
  {
   "cell_type": "code",
   "execution_count": 19,
   "metadata": {},
   "outputs": [
    {
     "name": "stdout",
     "output_type": "stream",
     "text": [
      "['python', 'javascript', 'C#', 'java']\n"
     ]
    }
   ],
   "source": [
    "my_list2 = [\"python\",\"javascript\",\"C#\"]\n",
    "my_list2.append(\"java\") #在最後一個(C#)後面插入java\n",
    "print(my_list2) "
   ]
  },
  {
   "cell_type": "markdown",
   "metadata": {},
   "source": [
    "## 刪除"
   ]
  },
  {
   "cell_type": "code",
   "execution_count": 21,
   "metadata": {},
   "outputs": [
    {
     "name": "stdout",
     "output_type": "stream",
     "text": [
      "['javascript', 'C#']\n",
      "['javascript']\n",
      "[]\n"
     ]
    }
   ],
   "source": [
    "my_list2 = [\"python\",\"javascript\",\"C#\"]\n",
    "my_list2.remove(\"python\") #移除指定元素\n",
    "print(my_list2)\n",
    "del my_list2[-1] #刪除指定位置\n",
    "print(my_list2)\n",
    "my_list2.clear() #清除元素\n",
    "print(my_list2)"
   ]
  },
  {
   "cell_type": "code",
   "execution_count": 22,
   "metadata": {},
   "outputs": [
    {
     "name": "stdout",
     "output_type": "stream",
     "text": [
      "[1, 2, 1, 2, 1, 2, 1, 2, 1, 2]\n"
     ]
    }
   ],
   "source": [
    "a=[1,2]\n",
    "print(a*5)"
   ]
  },
  {
   "cell_type": "markdown",
   "metadata": {},
   "source": [
    "## list取值"
   ]
  },
  {
   "cell_type": "code",
   "execution_count": 39,
   "metadata": {},
   "outputs": [
    {
     "name": "stdout",
     "output_type": "stream",
     "text": [
      "[1, 2, 3]\n",
      "[1, 3, 5, 7, 9]\n",
      "[1, 2, 3, 4, 5, 6, 7, 8, 9]\n",
      "[1, 2, 3, 4, 5, 6, 7, 8, 9]\n",
      "[1, 2, 3, 4, 5, 6, 7, 8, 9]\n"
     ]
    }
   ],
   "source": [
    "a=[1,2,3,4,5,6,7,8,9]\n",
    "b=a[0:3]   #範圍取值:從0到3但不包含3\n",
    "print(b)\n",
    "c=a[0:9:2] #從0到9但不包含9，並且間隔2\n",
    "print(c)\n",
    "d=a[0: ]   #第1個元素到最後一個元素\n",
    "print(d)\n",
    "e=a[ :9]   #從第0個元素到第9個元素\n",
    "print(e)\n",
    "f=a[:]     #全部選取\n",
    "print(f)"
   ]
  },
  {
   "cell_type": "code",
   "execution_count": 47,
   "metadata": {},
   "outputs": [
    {
     "name": "stdout",
     "output_type": "stream",
     "text": [
      "[1, 2, 3, 4, 5, 6, 7]\n",
      "最小值: 1\n",
      "最大值: 7\n",
      "第 0 個\n",
      "3 次\n",
      "[7, 6, 5, 4, 3, 2, 1]\n",
      "[1, 2, 3, 4, 5, 6, 7]\n"
     ]
    }
   ],
   "source": [
    "a=[1,2,3,4,5,6,7,8,9]\n",
    "del a[7:9] #刪除指定範圍值，第7個到第9個但不包含9\n",
    "print(a)\n",
    "print(\"最小值:\",min(a)) #最小值\n",
    "print(\"最大值:\",max(a)) #最大值\n",
    "print(\"第\",a.index(1),\"個\") #找出1所在的第一個索引值\n",
    "b=[0,0,1,0,1,1]\n",
    "print(b.count(1),\"次\") #1出現的次數\n",
    "a.reverse() #串列反轉\n",
    "print(a)\n",
    "a.sort()    #串列由小到大排序\n",
    "print(a)"
   ]
  },
  {
   "cell_type": "code",
   "execution_count": 49,
   "metadata": {},
   "outputs": [
    {
     "name": "stdout",
     "output_type": "stream",
     "text": [
      "[12, 101, 300, 1138, 2049] [1138, 101, 12, 300, 2049]\n"
     ]
    }
   ],
   "source": [
    "ex=[1138, 101, 12, 300, 2049]\n",
    "s=sorted(ex) #由小到大排序，ex的值不會變\n",
    "print(s,ex)"
   ]
  },
  {
   "cell_type": "markdown",
   "metadata": {},
   "source": [
    "# Tuple(元祖)\n",
    "tuple(元祖)可以視為不可改變的串列(list)，tuple跟list很像，但是不能新增刪除或更新tuple的元素\n",
    "* 占用空間少\n",
    "* 可以當作dictionary(字典)的Key\n",
    "* 具名tuple當作物件代替\n",
    "* 當作函式的引數"
   ]
  },
  {
   "cell_type": "code",
   "execution_count": 2,
   "metadata": {},
   "outputs": [
    {
     "name": "stdout",
     "output_type": "stream",
     "text": [
      "('python', 'js', 'C#')\n",
      "('python', 'js', 'C#')\n",
      "python\n"
     ]
    }
   ],
   "source": [
    "a_list=['python','js','C#']\n",
    "a_tuple=tuple(a_list)\n",
    "b_tuple=('python','js','C#')\n",
    "print(a_tuple)\n",
    "print(b_tuple)\n",
    "print(a_tuple[0]) #取a_tuple[0]裡面的第一個值 "
   ]
  },
  {
   "cell_type": "markdown",
   "metadata": {},
   "source": [
    "# Dictionary-dict(字典)\n",
    "dict為應有鍵值(key)的舉例\n",
    "* 表示方法為{}"
   ]
  },
  {
   "cell_type": "code",
   "execution_count": 3,
   "metadata": {},
   "outputs": [
    {
     "name": "stdout",
     "output_type": "stream",
     "text": [
      "python\n",
      "3.7\n",
      "{0: 'python', '1': '3.7'}\n",
      "python\n",
      "3.7\n"
     ]
    }
   ],
   "source": [
    "languages={'namw':'python','version':'3.7'}\n",
    "a_list=['python','3.7']\n",
    "a_dict={0:'python','1':'3.7'}\n",
    "print(a_list[0])#a_list的第一個值\n",
    "print(a_list[1])#a_list的第二個值\n",
    "print(a_dict) #dict就是可以改變索引值得list(串列)\n",
    "print(a_dict[0])#字典中叫做0的索引值\n",
    "print(a_dict['1'])#字典中叫做'1'的索引值"
   ]
  },
  {
   "cell_type": "code",
   "execution_count": 13,
   "metadata": {},
   "outputs": [
    {
     "name": "stdout",
     "output_type": "stream",
     "text": [
      "python\n",
      "{'namw': 'python', 'version': '3.7'}\n",
      "dict_keys(['namw', 'version'])\n",
      "dict_values(['python', '3.7'])\n",
      "dict_items([('namw', 'python'), ('version', '3.7')])\n",
      "False\n"
     ]
    }
   ],
   "source": [
    "languages={'namw':'python','version':'3.7'}\n",
    "print(languages['namw'])#列印languages中叫做'namw'的值\n",
    "print(languages) #列印所有languages\n",
    "print(languages.keys())#列印出所有的鍵(key)\n",
    "print(languages.values())#列印出所有的鍵(key)裡面的值\n",
    "print(languages.items())#列印出所有的鍵(key)和鍵(key)裡面的值\n",
    "print('name' in languages)"
   ]
  },
  {
   "cell_type": "code",
   "execution_count": 16,
   "metadata": {},
   "outputs": [
    {
     "name": "stdout",
     "output_type": "stream",
     "text": [
      "擲出骰子點數：\n",
      "四點\n"
     ]
    }
   ],
   "source": [
    "import random\n",
    "dice=random.randint(1,6)#隨機亂數\n",
    "print(\"擲出骰子點數：\")\n",
    "if dice==1:\n",
    "    print('一點')\n",
    "elif dice==2:\n",
    "    print('二點')\n",
    "elif dice==3:\n",
    "    print('三點')\n",
    "elif dice==4:\n",
    "    print('四點')\n",
    "elif dice==5:\n",
    "    print('五點')\n",
    "else :\n",
    "    print('六點')"
   ]
  },
  {
   "cell_type": "code",
   "execution_count": 18,
   "metadata": {},
   "outputs": [
    {
     "name": "stdout",
     "output_type": "stream",
     "text": [
      "擲出骰子點數： 六點\n"
     ]
    }
   ],
   "source": [
    "import random\n",
    "dice_points={1:'一點',2:'二點',3:'三點',4:'四點',5:'五點',6:'六點'}\n",
    "dice=random.randint(1,6)#隨機亂數\n",
    "print(\"擲出骰子點數：\",dice_points[dice])"
   ]
  }
 ],
 "metadata": {
  "kernelspec": {
   "display_name": "Python 3",
   "language": "python",
   "name": "python3"
  },
  "language_info": {
   "codemirror_mode": {
    "name": "ipython",
    "version": 3
   },
   "file_extension": ".py",
   "mimetype": "text/x-python",
   "name": "python",
   "nbconvert_exporter": "python",
   "pygments_lexer": "ipython3",
   "version": "3.8.5"
  }
 },
 "nbformat": 4,
 "nbformat_minor": 4
}
